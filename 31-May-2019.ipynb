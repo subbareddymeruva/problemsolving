{
 "cells": [
  {
   "cell_type": "markdown",
   "metadata": {},
   "source": [
    "# JNTUA FDP - DAY 05\n",
    "#### Date: 31-May-2019\n",
    "\n",
    "#### Day Objectives\n",
    "* Tuples\n",
    "* Dictionaries\n",
    "* Regular Expressions\n",
    "* Linear and Binary Search\n",
    "* Date Arithmetic\n",
    "* Iteration and Generators\n",
    "* Functional Programming\n",
    "* Idimotic programming\n"
   ]
  },
  {
   "cell_type": "markdown",
   "metadata": {},
   "source": [
    "#### Python Tuples"
   ]
  },
  {
   "cell_type": "code",
   "execution_count": 6,
   "metadata": {},
   "outputs": [
    {
     "data": {
      "text/plain": [
       "(1001, 'raju', 10, 20, 30)"
      ]
     },
     "execution_count": 6,
     "metadata": {},
     "output_type": "execute_result"
    }
   ],
   "source": [
    "#Tuple creation\n",
    "t1=(1001,\"raju\",10,20,30)\n",
    "t1"
   ]
  },
  {
   "cell_type": "code",
   "execution_count": 7,
   "metadata": {},
   "outputs": [
    {
     "data": {
      "text/plain": [
       "1001"
      ]
     },
     "execution_count": 7,
     "metadata": {},
     "output_type": "execute_result"
    }
   ],
   "source": [
    "t1[0]"
   ]
  },
  {
   "cell_type": "code",
   "execution_count": 8,
   "metadata": {},
   "outputs": [
    {
     "ename": "TypeError",
     "evalue": "'tuple' object does not support item assignment",
     "output_type": "error",
     "traceback": [
      "\u001b[1;31m---------------------------------------------------------------------------\u001b[0m",
      "\u001b[1;31mTypeError\u001b[0m                                 Traceback (most recent call last)",
      "\u001b[1;32m<ipython-input-8-4647c981553d>\u001b[0m in \u001b[0;36m<module>\u001b[1;34m\u001b[0m\n\u001b[1;32m----> 1\u001b[1;33m \u001b[0mt1\u001b[0m\u001b[1;33m[\u001b[0m\u001b[1;36m0\u001b[0m\u001b[1;33m]\u001b[0m\u001b[1;33m=\u001b[0m\u001b[1;36m1002\u001b[0m\u001b[1;33m\u001b[0m\u001b[1;33m\u001b[0m\u001b[0m\n\u001b[0m",
      "\u001b[1;31mTypeError\u001b[0m: 'tuple' object does not support item assignment"
     ]
    }
   ],
   "source": [
    "#tuple is immutable object so we cant change the values and its fixed\n",
    "t1[0]=1002"
   ]
  },
  {
   "cell_type": "code",
   "execution_count": 9,
   "metadata": {},
   "outputs": [
    {
     "ename": "AttributeError",
     "evalue": "'tuple' object has no attribute 'sort'",
     "output_type": "error",
     "traceback": [
      "\u001b[1;31m---------------------------------------------------------------------------\u001b[0m",
      "\u001b[1;31mAttributeError\u001b[0m                            Traceback (most recent call last)",
      "\u001b[1;32m<ipython-input-9-5a6cb2ed75f6>\u001b[0m in \u001b[0;36m<module>\u001b[1;34m\u001b[0m\n\u001b[1;32m----> 1\u001b[1;33m \u001b[0mt1\u001b[0m\u001b[1;33m.\u001b[0m\u001b[0msort\u001b[0m\u001b[1;33m(\u001b[0m\u001b[1;33m)\u001b[0m\u001b[1;33m\u001b[0m\u001b[1;33m\u001b[0m\u001b[0m\n\u001b[0m",
      "\u001b[1;31mAttributeError\u001b[0m: 'tuple' object has no attribute 'sort'"
     ]
    }
   ],
   "source": [
    "#tuple is immutable object so we cant change the values and its fixed\n",
    "t1.sort()"
   ]
  },
  {
   "cell_type": "code",
   "execution_count": 12,
   "metadata": {},
   "outputs": [
    {
     "data": {
      "text/plain": [
       "(20, 30)"
      ]
     },
     "execution_count": 12,
     "metadata": {},
     "output_type": "execute_result"
    }
   ],
   "source": [
    "#accessing sub tuple\n",
    "t1[2:]"
   ]
  },
  {
   "cell_type": "code",
   "execution_count": 14,
   "metadata": {},
   "outputs": [
    {
     "data": {
      "text/plain": [
       "30"
      ]
     },
     "execution_count": 14,
     "metadata": {},
     "output_type": "execute_result"
    }
   ],
   "source": [
    "# Accessing the last element\n",
    "t2=t1[-1]\n",
    "t2"
   ]
  },
  {
   "cell_type": "code",
   "execution_count": 22,
   "metadata": {},
   "outputs": [
    {
     "name": "stdout",
     "output_type": "stream",
     "text": [
      "2 5 8\n"
     ]
    }
   ],
   "source": [
    "t3=(321,654,789098)\n",
    "#accessing all the second digits of elements in the tuple\n",
    "print(str(t3[0])[1],str(t3[1])[1],str(t3[2])[1])\n"
   ]
  },
  {
   "cell_type": "code",
   "execution_count": 35,
   "metadata": {},
   "outputs": [
    {
     "name": "stdout",
     "output_type": "stream",
     "text": [
      "20.0\n",
      "274.0\n"
     ]
    }
   ],
   "source": [
    "#define a function to calculate teh avearege of all numerical elemenets of tuple\n",
    "t4=(10,20,30)\n",
    "def averageTuple(t):#This function calculates the avg of lists also so averageLinearDs(t)\n",
    "    sum=0\n",
    "    for i in range(0,len(t)):\n",
    "        sum+=t[i]\n",
    "    return sum/len(t)\n",
    "\n",
    "li=[123,243,456]\n",
    "print(averageTuple(t4))\n",
    "print(averageTuple(li))\n"
   ]
  },
  {
   "cell_type": "code",
   "execution_count": 36,
   "metadata": {},
   "outputs": [
    {
     "name": "stdout",
     "output_type": "stream",
     "text": [
      "20.0\n",
      "274.0\n"
     ]
    }
   ],
   "source": [
    "#define a function to calculate teh avearege of all numerical elemenets of tuple\n",
    "t4=(10,20,30)\n",
    "def averageLinearDs(t):#This function calculates the avg of lists also so averageLinearDs(t)\n",
    "    sum=0\n",
    "    for i in range(0,len(t)):\n",
    "        sum+=t[i]\n",
    "    return sum/len(t)\n",
    "\n",
    "li=[123,243,456]\n",
    "print(averageTuple(t4))\n",
    "print(averageTuple(li))\n"
   ]
  },
  {
   "cell_type": "code",
   "execution_count": 52,
   "metadata": {},
   "outputs": [
    {
     "data": {
      "text/plain": [
       "3"
      ]
     },
     "execution_count": 52,
     "metadata": {},
     "output_type": "execute_result"
    }
   ],
   "source": [
    "#function to search in a linear data structure\n",
    "def searchLinearDs(ds,key):\n",
    "    for i in range(0,len(ds)):\n",
    "        if ds[i]==key:\n",
    "            return i\n",
    "    return -1\n",
    "ds=[1,2,3,4]\n",
    "searchLinearDs(ds,4)\n",
    "\n",
    "\n",
    "    "
   ]
  },
  {
   "cell_type": "code",
   "execution_count": 4,
   "metadata": {},
   "outputs": [
    {
     "name": "stdout",
     "output_type": "stream",
     "text": [
      "Enter how many elements is available in the list5\n",
      "Enter searching element2\n",
      "Enter elements in one by one\n",
      "1\n",
      "2\n",
      "3\n",
      "4\n",
      "5\n",
      "The element is found at the position 1\n"
     ]
    }
   ],
   "source": [
    "#function to search in a linear data structure\n",
    "def searchLinearDs(ds,key):\n",
    "    for i in ds:#here we use for i in range(0,len(ds)+1)\n",
    "        if ds[i]==key:\n",
    "            return i\n",
    "    return -1\n",
    "\n",
    "ds=[]\n",
    "n=int(input(\"Enter how many elements is available in the list\"))\n",
    "key=int(input(\"Enter searching element\"))\n",
    "print(\"Enter elements in one by one\")\n",
    "for i in range(1,n+1):\n",
    "    li=int(input()) \n",
    "    ds.append(li)\n",
    "pos=searchLinearDs(ds,key)\n",
    "print(\"The element is found at the position\",pos)"
   ]
  },
  {
   "cell_type": "markdown",
   "metadata": {},
   "source": [
    "### Iterable Objects\n",
    "### list,tupels ans dictonaries and strings are iteratable objects"
   ]
  },
  {
   "cell_type": "code",
   "execution_count": 59,
   "metadata": {},
   "outputs": [
    {
     "name": "stdout",
     "output_type": "stream",
     "text": [
      "p\n",
      "y\n",
      "t\n",
      "h\n",
      "o\n",
      "n\n"
     ]
    }
   ],
   "source": [
    "str=\"python\"\n",
    "for i in str:\n",
    "    print(i)\n",
    "    "
   ]
  },
  {
   "cell_type": "code",
   "execution_count": 63,
   "metadata": {},
   "outputs": [
    {
     "data": {
      "text/plain": [
       "3"
      ]
     },
     "execution_count": 63,
     "metadata": {},
     "output_type": "execute_result"
    }
   ],
   "source": [
    "#Define a function to identify the maximum element in a datastructure\n",
    "def maxElementDS(ds):\n",
    "        m=0\n",
    "        for item in ds:\n",
    "            if item>m:\n",
    "                m=item\n",
    "        return m\n",
    "li=[1,2,3]\n",
    "maxElementDS(li)    "
   ]
  },
  {
   "cell_type": "markdown",
   "metadata": {},
   "source": [
    "### python dictionaries\n",
    "### Dictionaries are non-linear data structure\n",
    "### set is also a non lenear ds\n",
    "### heap is non linear"
   ]
  },
  {
   "cell_type": "code",
   "execution_count": 97,
   "metadata": {},
   "outputs": [
    {
     "name": "stdout",
     "output_type": "stream",
     "text": [
      "{'name1': 12345, 'name2': 67890}\n",
      "12345\n",
      "dict_keys(['name1', 'name2'])\n",
      "dict_values([12345, 67890])\n"
     ]
    },
    {
     "data": {
      "text/plain": [
       "dict"
      ]
     },
     "execution_count": 97,
     "metadata": {},
     "output_type": "execute_result"
    }
   ],
   "source": [
    "d1={'name1':12345,'name2':67890}#All keys are must be unique and values are may be repeat\n",
    "print(d1)# displays the entire dictonary\n",
    "print(d1['name1'])#name1 value is displayed\n",
    "print(d1.keys())#print only keys\n",
    "print(d1.values())#print only values\n",
    "type(d1)"
   ]
  },
  {
   "cell_type": "code",
   "execution_count": 98,
   "metadata": {},
   "outputs": [
    {
     "data": {
      "text/plain": [
       "{'name1': 12345, 'name2': 67890, 'name3': '4567'}"
      ]
     },
     "execution_count": 98,
     "metadata": {},
     "output_type": "execute_result"
    }
   ],
   "source": [
    "#Adding new value to dictionary\n",
    "d1['name3']=\"4567\"\n",
    "d1"
   ]
  },
  {
   "cell_type": "code",
   "execution_count": 99,
   "metadata": {},
   "outputs": [
    {
     "data": {
      "text/plain": [
       "{'name1': 12345, 'name2': 4567, 'name3': 7890}"
      ]
     },
     "execution_count": 99,
     "metadata": {},
     "output_type": "execute_result"
    }
   ],
   "source": [
    "d1={'name1':12345,'name2':4567,'name3':7890}\n",
    "d1\n"
   ]
  },
  {
   "cell_type": "code",
   "execution_count": 93,
   "metadata": {},
   "outputs": [
    {
     "data": {
      "text/plain": [
       "12345"
      ]
     },
     "execution_count": 93,
     "metadata": {},
     "output_type": "execute_result"
    }
   ],
   "source": [
    "#removing the elements\n",
    "d1.pop('name1')\n"
   ]
  },
  {
   "cell_type": "code",
   "execution_count": 100,
   "metadata": {},
   "outputs": [
    {
     "data": {
      "text/plain": [
       "{'name1': 12345, 'name2': 4567, 'name3': 7890}"
      ]
     },
     "execution_count": 100,
     "metadata": {},
     "output_type": "execute_result"
    }
   ],
   "source": [
    "d1\n"
   ]
  },
  {
   "cell_type": "code",
   "execution_count": 95,
   "metadata": {},
   "outputs": [],
   "source": [
    "#removing of all elements of the dictionary\n",
    "#del(d1)\n"
   ]
  },
  {
   "cell_type": "code",
   "execution_count": 96,
   "metadata": {},
   "outputs": [
    {
     "ename": "NameError",
     "evalue": "name 'd1' is not defined",
     "output_type": "error",
     "traceback": [
      "\u001b[1;31m---------------------------------------------------------------------------\u001b[0m",
      "\u001b[1;31mNameError\u001b[0m                                 Traceback (most recent call last)",
      "\u001b[1;32m<ipython-input-96-2d3a24957153>\u001b[0m in \u001b[0;36m<module>\u001b[1;34m\u001b[0m\n\u001b[1;32m----> 1\u001b[1;33m \u001b[0md1\u001b[0m\u001b[1;33m\u001b[0m\u001b[1;33m\u001b[0m\u001b[0m\n\u001b[0m",
      "\u001b[1;31mNameError\u001b[0m: name 'd1' is not defined"
     ]
    }
   ],
   "source": [
    "d1\n"
   ]
  },
  {
   "cell_type": "code",
   "execution_count": 137,
   "metadata": {},
   "outputs": [],
   "source": [
    "# Contacts Application\n",
    "# Display Contacts\n",
    "# Add Contacts\n",
    "# Modify Contacts\n",
    "# Delete Contacts\n",
    "contacts={}\n",
    "\n",
    "def addContact(contacts,name,phone):\n",
    "    contacts[name]=phone\n",
    "    return\n",
    "def displayContacts(contacts):\n",
    "    for name,phone in contacts.items():\n",
    "        print(name,\":\",phone)\n",
    "    return\n",
    "def modifyContacts(contacts,name,newphone):\n",
    "    contacts[name]=newphone\n",
    "    return\n",
    "def deleteContacts(contacts,name):\n",
    "    contacts.pop(name)\n",
    "    return        "
   ]
  },
  {
   "cell_type": "code",
   "execution_count": 138,
   "metadata": {},
   "outputs": [],
   "source": [
    "addContact(contacts,\"name1\",12345)\n",
    "addContact(contacts,\"name2\",67890)"
   ]
  },
  {
   "cell_type": "code",
   "execution_count": 139,
   "metadata": {},
   "outputs": [
    {
     "name": "stdout",
     "output_type": "stream",
     "text": [
      "name1 : 12345\n",
      "name2 : 67890\n"
     ]
    }
   ],
   "source": [
    "displayContacts(contacts)"
   ]
  },
  {
   "cell_type": "code",
   "execution_count": 141,
   "metadata": {},
   "outputs": [],
   "source": [
    "modifyContacts(contacts,\"name2\",12345)"
   ]
  },
  {
   "cell_type": "code",
   "execution_count": 142,
   "metadata": {},
   "outputs": [
    {
     "data": {
      "text/plain": [
       "{'name1': 12345, 'name2': 12345}"
      ]
     },
     "execution_count": 142,
     "metadata": {},
     "output_type": "execute_result"
    }
   ],
   "source": [
    "contacts\n"
   ]
  },
  {
   "cell_type": "code",
   "execution_count": 143,
   "metadata": {},
   "outputs": [],
   "source": [
    "deleteContacts(contacts,\"name2\")"
   ]
  },
  {
   "cell_type": "code",
   "execution_count": 144,
   "metadata": {},
   "outputs": [
    {
     "data": {
      "text/plain": [
       "{'name1': 12345}"
      ]
     },
     "execution_count": 144,
     "metadata": {},
     "output_type": "execute_result"
    }
   ],
   "source": [
    "contacts\n"
   ]
  },
  {
   "cell_type": "code",
   "execution_count": 147,
   "metadata": {},
   "outputs": [
    {
     "data": {
      "text/plain": [
       "list"
      ]
     },
     "execution_count": 147,
     "metadata": {},
     "output_type": "execute_result"
    }
   ],
   "source": [
    "#converting one tuple data type to list data type for data structure \n",
    "t4={1,2,3,4}\n",
    "l4=list(t4)\n",
    "l4\n",
    "type(l4)"
   ]
  },
  {
   "cell_type": "code",
   "execution_count": 150,
   "metadata": {},
   "outputs": [
    {
     "name": "stdout",
     "output_type": "stream",
     "text": [
      "0 : 1\n",
      "1 : 2\n",
      "2 : 3\n",
      "3 : 4\n"
     ]
    }
   ],
   "source": [
    "enumerate(l4)\n",
    "for i,value in enumerate(l4):\n",
    "    print(i,\":\",value)"
   ]
  },
  {
   "cell_type": "markdown",
   "metadata": {},
   "source": [
    "### Note: switch case is implemented with dictionary "
   ]
  },
  {
   "cell_type": "markdown",
   "metadata": {},
   "source": [
    "### Regular Expressions in Python\n",
    "### https://regexr.com/\n",
    "### https://www.regexpal.com/"
   ]
  },
  {
   "cell_type": "markdown",
   "metadata": {},
   "source": [
    "#### [0-9]-- Regular expression for all single digits 0 to 9 \n",
    "####    [0,1,2,3,....9]\n",
    "##### [a-z]--RE for all lower case alphabet\n",
    "###### RE for all single letters\n",
    "###### [A-Z]---RE for all upper case alphabet\n",
    "###### [0-1]--for boolean regular expressions\n",
    "###### [01]--fro boolean regular expressions\n",
    "###### [1][5][Aa][Mm][1][Aa][0][1-9][0-5][0-9]--RE that matches the rollnumber \n"
   ]
  },
  {
   "cell_type": "markdown",
   "metadata": {},
   "source": [
    "## Function to validate college student roll number\n",
    "## Function to validate indian phone numbers starts with 9,8,7,6 and have 10 digits\n",
    "## function to validate email address :  username@domain.extension\n",
    "## username: string of length 9,can contain digits,_,alphabets\n",
    "## domain: string of atmost 9 can contain digits and alphabets\n",
    "## extension:{length of 3.only alphabets}\n",
    "\n"
   ]
  },
  {
   "cell_type": "markdown",
   "metadata": {},
   "source": [
    "## Function to validate indian phone numbers starts with 9,8,7,6 and have 10 digits\n",
    "# phone=9701725185\n",
    "#^[6-9][0-9]{9}$\n",
    "# function to validate email address :  username@domain.extension\n",
    "\n",
    "# username: ^[a-z][a-z0-9_.]{5,14}[@][a-z0-9]{3,12}[.][a-z]{2,3}[.]?[a-z]?$\n"
   ]
  },
  {
   "cell_type": "code",
   "execution_count": 8,
   "metadata": {},
   "outputs": [],
   "source": [
    "##  ^[a]..[a]$---starts with a and ends with a \n",
    "### ^[a].{5}[a]$----starts with a and ends with a and number of middle characters should be 5 "
   ]
  },
  {
   "cell_type": "code",
   "execution_count": 10,
   "metadata": {},
   "outputs": [
    {
     "data": {
      "text/plain": [
       "False"
      ]
     },
     "execution_count": 10,
     "metadata": {},
     "output_type": "execute_result"
    }
   ],
   "source": [
    "#phone number validator function in python\n",
    "import re\n",
    "def phoneNumberValidator(phone):\n",
    "    phone=str(phone)\n",
    "    pattern=\"^[6-9][0-9]{9}$\"\n",
    "    if re.match(pattern,phone):\n",
    "        return True\n",
    "    return False\n",
    "phoneNumberValidator(5701725185)#"
   ]
  },
  {
   "cell_type": "code",
   "execution_count": 11,
   "metadata": {},
   "outputs": [
    {
     "data": {
      "text/plain": [
       "True"
      ]
     },
     "execution_count": 11,
     "metadata": {},
     "output_type": "execute_result"
    }
   ],
   "source": [
    "#phone number validator function in python\n",
    "import re\n",
    "def phoneNumberValidator(phone):\n",
    "    phone=str(phone)\n",
    "    pattern=\"^[6-9][0-9]{9}$\"\n",
    "    if re.match(pattern,phone):\n",
    "        return True\n",
    "    return False\n",
    "phoneNumberValidator(9701725185)# exact 10 digits and starts with 9"
   ]
  },
  {
   "cell_type": "code",
   "execution_count": 12,
   "metadata": {},
   "outputs": [
    {
     "data": {
      "text/plain": [
       "False"
      ]
     },
     "execution_count": 12,
     "metadata": {},
     "output_type": "execute_result"
    }
   ],
   "source": [
    "#phone number validator function in python\n",
    "import re\n",
    "def phoneNumberValidator(phone):\n",
    "    phone=str(phone)\n",
    "    pattern=\"^[6-9][0-9]{9}$\"\n",
    "    if re.match(pattern,phone):\n",
    "        return True\n",
    "    return False\n",
    "phoneNumberValidator(970172518512)#more than 10 digits"
   ]
  },
  {
   "cell_type": "code",
   "execution_count": 14,
   "metadata": {},
   "outputs": [],
   "source": [
    "s1='Scratch: Introduction to programming concepts with scratch, Scratch environment, sprites looks and motion, Angles and directions, repetition and variation, changing costumes, adding background, Input/Output, variables and operators. Working with sounds and sprite communication and creating stories.'"
   ]
  },
  {
   "cell_type": "code",
   "execution_count": 21,
   "metadata": {},
   "outputs": [
    {
     "data": {
      "text/plain": [
       "['Scratch: Introduction to programming concepts with scratch',\n",
       " 'Scratch environment',\n",
       " 'sprites looks and motion',\n",
       " 'Angles and directions',\n",
       " 'repetition and variation',\n",
       " 'changing costumes',\n",
       " 'adding background',\n",
       " 'Input/Output',\n",
       " 'variables and operators. Working with sounds and sprite communication and creating stories.']"
      ]
     },
     "execution_count": 21,
     "metadata": {},
     "output_type": "execute_result"
    }
   ],
   "source": [
    "syllabuslist=re.split('[,][\\ ]',s1)\n",
    "syllabuslist\n"
   ]
  },
  {
   "cell_type": "code",
   "execution_count": 32,
   "metadata": {},
   "outputs": [
    {
     "name": "stdout",
     "output_type": "stream",
     "text": [
      "<class 'datetime.datetime'>\n",
      "2019-05-31 17:09:15.751711\n",
      "2019\n",
      "5\n",
      "17\n",
      "9\n",
      "15\n"
     ]
    }
   ],
   "source": [
    "import datetime\n",
    "\n",
    "print(type(datetime.datetime.now()))\n",
    "print(datetime.datetime.now())\n",
    "now=datetime.datetime.now()\n",
    "print(now.year)\n",
    "print(now.month)\n",
    "print(now.hour)\n",
    "print(now.minute)\n",
    "print(now.second)\n",
    "\n"
   ]
  },
  {
   "cell_type": "markdown",
   "metadata": {},
   "source": [
    "# https://www.programiz.com/python-programming/examples\n",
    "## https://www.programiz.com/python-programming/datetime"
   ]
  },
  {
   "cell_type": "code",
   "execution_count": 47,
   "metadata": {},
   "outputs": [
    {
     "name": "stdout",
     "output_type": "stream",
     "text": [
      "2019\n",
      "2019\n",
      "5 days, 0:00:00\n"
     ]
    }
   ],
   "source": [
    "# Design a Python script to determine the difference in date for given two dates in YYYY:MM:DD format(0 <= YYYY <= 9999, 1 <= MM <= 12, 1 <= DD <= 31) following the leap year rules.\n",
    "# YYYY:MM:DD is the date format as a string\n",
    "import datetime\n",
    "def dateDifference(date1,date2):\n",
    "    year1=int(date1[:4])\n",
    "    month1=int(date1[5:7])\n",
    "    day1=int(date1[8:])\n",
    "    print(year1)\n",
    "    year2=int(date2[:4])\n",
    "    month2=int(date2[5:7])\n",
    "    day2=int(date2[8:])\n",
    "    d1=datetime.date(year1,month1,day1)\n",
    "    d2=datetime.date(year2,month2,day2)\n",
    "    print(year2)\n",
    "    return d2-d1\n",
    "print(dateDifference('2019:05:27','2019:06:01'))\n",
    "    "
   ]
  },
  {
   "cell_type": "code",
   "execution_count": 49,
   "metadata": {},
   "outputs": [
    {
     "data": {
      "text/plain": [
       "True"
      ]
     },
     "execution_count": 49,
     "metadata": {},
     "output_type": "execute_result"
    }
   ],
   "source": [
    "import calendar\n",
    "calendar.isleap(2016)"
   ]
  },
  {
   "cell_type": "code",
   "execution_count": 57,
   "metadata": {},
   "outputs": [
    {
     "data": {
      "text/plain": [
       "True"
      ]
     },
     "execution_count": 57,
     "metadata": {},
     "output_type": "execute_result"
    }
   ],
   "source": [
    "#2020-True\n",
    "#1900-False\n",
    "#1600-True\n",
    "#2008-True\n",
    "def isLeap(year):\n",
    "    if year % 4==0 and year%400==0 or year % 100!=0:\n",
    "        return True\n",
    "    return False\n",
    "isLeap(400)"
   ]
  },
  {
   "cell_type": "code",
   "execution_count": null,
   "metadata": {},
   "outputs": [],
   "source": [
    "# Iterator Class\n",
    "# define a list\n",
    "my_list = [4, 7, 0, 3]\n",
    "\n",
    "# get an iterator using iter()\n",
    "my_iter = iter(my_list)\n",
    "\n",
    "## iterate through it using next() \n",
    "\n",
    "#prints 4\n",
    "print(next(my_iter))\n",
    "\n",
    "#prints 7\n",
    "print(next(my_iter))\n",
    "\n",
    "## next(obj) is same as obj.__next__()\n",
    "\n",
    "#prints 0\n",
    "print(my_iter.__next__())\n",
    "\n",
    "#prints 3\n",
    "print(my_iter.__next__())\n",
    "\n",
    "## This will raise error, no items left\n",
    "next(my_iter)\n"
   ]
  },
  {
   "cell_type": "markdown",
   "metadata": {},
   "source": [
    "## List Comprehensions"
   ]
  },
  {
   "cell_type": "code",
   "execution_count": 69,
   "metadata": {},
   "outputs": [
    {
     "name": "stdout",
     "output_type": "stream",
     "text": [
      "15\n",
      "55\n",
      "55\n"
     ]
    }
   ],
   "source": [
    "li=[1,2,3,4,5]\n",
    "print(sum(li))\n",
    "n=10\n",
    "print(sum(range(1,n+1)))\n",
    "print(sum(list(range(1,n+1))))# sum of N natural numbers\n"
   ]
  },
  {
   "cell_type": "code",
   "execution_count": 79,
   "metadata": {},
   "outputs": [
    {
     "name": "stdout",
     "output_type": "stream",
     "text": [
      "[1.0, 1.4142135623730951, 1.7320508075688772, 2.0, 2.23606797749979, 2.449489742783178, 2.6457513110645907, 2.8284271247461903, 3.0, 3.1622776601683795]\n",
      "22.4682781862041\n"
     ]
    }
   ],
   "source": [
    "#calculate sum of squareroot of n natural numbers\n",
    "from math import sqrt\n",
    "squarelist=[sqrt(i) for i in list(range(1,n+1))]\n",
    "print(squarelist)\n",
    "print(sum(squarelist))\n"
   ]
  },
  {
   "cell_type": "code",
   "execution_count": 81,
   "metadata": {},
   "outputs": [
    {
     "data": {
      "text/plain": [
       "[1, 4, 9, 16, 25, 36]"
      ]
     },
     "execution_count": 81,
     "metadata": {},
     "output_type": "execute_result"
    }
   ],
   "source": [
    "#calculate square of list elements\n",
    "li=[1,2,3,4,5,6]\n",
    "def squareListElements(li):\n",
    "        return [i ** 2 for i in li]\n",
    "squareListElements(li)\n"
   ]
  },
  {
   "cell_type": "code",
   "execution_count": 93,
   "metadata": {},
   "outputs": [
    {
     "data": {
      "text/plain": [
       "[45]"
      ]
     },
     "execution_count": 93,
     "metadata": {},
     "output_type": "execute_result"
    }
   ],
   "source": [
    "#divisable of 9 and 5 and 3\n",
    "li=list(range(1,50))\n",
    "def divisibleByNine(li):\n",
    "    return [i for i in li if i%9==0 and i%5==0 and i%3==0]\n",
    "divisibleByNine(li)"
   ]
  },
  {
   "cell_type": "code",
   "execution_count": 94,
   "metadata": {},
   "outputs": [
    {
     "data": {
      "text/plain": [
       "[1972, 1976, 1980, 1984, 1988, 1992, 1996, 2000, 2004, 2008, 2012, 2016]"
      ]
     },
     "execution_count": 94,
     "metadata": {},
     "output_type": "execute_result"
    }
   ],
   "source": [
    "#list of all leaf years \n",
    "li=list(range(1970,2019))\n",
    "def leafYear(li):\n",
    "    return [i for i in li if (i%4==0 and i%100!=0) or i% 400==0]\n",
    "leafYear(li)"
   ]
  },
  {
   "cell_type": "code",
   "execution_count": 95,
   "metadata": {},
   "outputs": [
    {
     "data": {
      "text/plain": [
       "[1972, 1976, 1980, 1984, 1988, 1992, 1996, 2000, 2004, 2008, 2012, 2016]"
      ]
     },
     "execution_count": 95,
     "metadata": {},
     "output_type": "execute_result"
    }
   ],
   "source": [
    "#list of all leaf years \n",
    "li=list(range(1970,2019))\n",
    "[i for i in li if (i%4==0 and i%100!=0) or i% 400==0]\n"
   ]
  },
  {
   "cell_type": "markdown",
   "metadata": {},
   "source": [
    "# Maps\n",
    "#### The map() function applies a given function to each item of an iterable (list, tuple etc.) and returns a list of the results.\n",
    "### Functions and iterators are passed as iterable objects to maps\n"
   ]
  },
  {
   "cell_type": "code",
   "execution_count": 107,
   "metadata": {},
   "outputs": [
    {
     "name": "stdout",
     "output_type": "stream",
     "text": [
      "[1, 8, 27, 64]\n",
      "100\n",
      "[1, 8, 27, 64]\n"
     ]
    }
   ],
   "source": [
    "# Define a function to calculate cube of all numbers in a list\n",
    "li=[1,2,3,4]\n",
    "def cube(n):\n",
    "    return n**3\n",
    "res=list(map(cube,li))\n",
    "print(res)\n",
    "print(sum(res))"
   ]
  },
  {
   "cell_type": "code",
   "execution_count": 112,
   "metadata": {},
   "outputs": [
    {
     "name": "stdout",
     "output_type": "stream",
     "text": [
      "100\n",
      "100\n"
     ]
    }
   ],
   "source": [
    "# Define a function to calculate cube of all numbers in a list\n",
    "li=[1,2,3,4]\n",
    "def cube(n):\n",
    "    return n**3\n",
    "print(sum([cube(i) for i in li]))\n",
    "print(sum(list(map(cube,li))))\n"
   ]
  },
  {
   "cell_type": "code",
   "execution_count": 125,
   "metadata": {},
   "outputs": [
    {
     "data": {
      "text/plain": [
       "['one', 'Two']"
      ]
     },
     "execution_count": 125,
     "metadata": {},
     "output_type": "execute_result"
    }
   ],
   "source": [
    "#converting a number into words\n",
    "def numberToWords(n):\n",
    "    d1={1:'one',2:'Two',3:'Three',4:'Four'}\n",
    "    i=0\n",
    "    li=[]\n",
    "    while(n!=0):\n",
    "        digit=n%10\n",
    "        li.append(d1[digit])\n",
    "        n=n//10\n",
    "    li.reverse()   \n",
    "    return li\n",
    "        \n",
    "numberToWords(12)\n",
    "        \n",
    "    "
   ]
  },
  {
   "cell_type": "code",
   "execution_count": null,
   "metadata": {},
   "outputs": [],
   "source": [
    "#converting a number into words\n",
    "def numberToWords(n):\n",
    "    d1={1:'one',2:'Two',3:'Three',4:'Four'}\n",
    "    i=0\n",
    "    li=[]\n",
    "    while(n!=0):\n",
    "        digit=n%10\n",
    "        li.append(d1[digit])\n",
    "        n=n//10\n",
    "    li.reverse()   \n",
    "    return li\n",
    "        \n",
    "numberToWords(12)\n",
    "        "
   ]
  }
 ],
 "metadata": {
  "kernelspec": {
   "display_name": "Python 3",
   "language": "python",
   "name": "python3"
  },
  "language_info": {
   "codemirror_mode": {
    "name": "ipython",
    "version": 3
   },
   "file_extension": ".py",
   "mimetype": "text/x-python",
   "name": "python",
   "nbconvert_exporter": "python",
   "pygments_lexer": "ipython3",
   "version": "3.7.3"
  }
 },
 "nbformat": 4,
 "nbformat_minor": 2
}
